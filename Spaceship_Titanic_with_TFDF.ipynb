{
  "metadata": {
    "kernelspec": {
      "language": "python",
      "display_name": "Python 3",
      "name": "python3"
    },
    "language_info": {
      "pygments_lexer": "ipython3",
      "nbconvert_exporter": "python",
      "version": "3.6.4",
      "file_extension": ".py",
      "codemirror_mode": {
        "name": "ipython",
        "version": 3
      },
      "name": "python",
      "mimetype": "text/x-python"
    },
    "colab": {
      "name": "Spaceship Titanic with TFDF",
      "provenance": [],
      "include_colab_link": true
    },
    "widgets": {
      "application/vnd.jupyter.widget-state+json": {
        "18c5545035b6410c9aa2f4766a0784f2": {
          "model_module": "@jupyter-widgets/controls",
          "model_name": "VBoxModel",
          "model_module_version": "1.5.0",
          "state": {
            "_dom_classes": [],
            "_model_module": "@jupyter-widgets/controls",
            "_model_module_version": "1.5.0",
            "_model_name": "VBoxModel",
            "_view_count": null,
            "_view_module": "@jupyter-widgets/controls",
            "_view_module_version": "1.5.0",
            "_view_name": "VBoxView",
            "box_style": "",
            "children": [
              "IPY_MODEL_cbf1340972734a1c84a96c17e5391fcd",
              "IPY_MODEL_be6bc3436a074d4db523ff28cc2d6bd3",
              "IPY_MODEL_a8f8fa6ba8244dc582c12bd6f7acc971",
              "IPY_MODEL_448f068b9ea24c3fac7ab68270823570",
              "IPY_MODEL_2423c338e102473bacf181f8d7436db7"
            ],
            "layout": "IPY_MODEL_86a8df3351664aec94d3a5d818997e63"
          }
        },
        "cbf1340972734a1c84a96c17e5391fcd": {
          "model_module": "@jupyter-widgets/controls",
          "model_name": "HTMLModel",
          "model_module_version": "1.5.0",
          "state": {
            "_dom_classes": [],
            "_model_module": "@jupyter-widgets/controls",
            "_model_module_version": "1.5.0",
            "_model_name": "HTMLModel",
            "_view_count": null,
            "_view_module": "@jupyter-widgets/controls",
            "_view_module_version": "1.5.0",
            "_view_name": "HTMLView",
            "description": "",
            "description_tooltip": null,
            "layout": "IPY_MODEL_93dfc001227e4ad5a2d4f9af649ab8f3",
            "placeholder": "​",
            "style": "IPY_MODEL_9eb134d5bffb4af6887b2ac154bd120b",
            "value": "<center> <img\nsrc=https://www.kaggle.com/static/images/site-logo.png\nalt='Kaggle'> <br> Create an API token from <a\nhref=\"https://www.kaggle.com/settings/account\" target=\"_blank\">your Kaggle\nsettings page</a> and paste it below along with your Kaggle username. <br> </center>"
          }
        },
        "be6bc3436a074d4db523ff28cc2d6bd3": {
          "model_module": "@jupyter-widgets/controls",
          "model_name": "TextModel",
          "model_module_version": "1.5.0",
          "state": {
            "_dom_classes": [],
            "_model_module": "@jupyter-widgets/controls",
            "_model_module_version": "1.5.0",
            "_model_name": "TextModel",
            "_view_count": null,
            "_view_module": "@jupyter-widgets/controls",
            "_view_module_version": "1.5.0",
            "_view_name": "TextView",
            "continuous_update": true,
            "description": "Username:",
            "description_tooltip": null,
            "disabled": false,
            "layout": "IPY_MODEL_27f4ff6510dd4bd99d5a7149f0a833f5",
            "placeholder": "​",
            "style": "IPY_MODEL_b6aba97157094477a6d24ba3faf3015c",
            "value": "akhilmosali"
          }
        },
        "a8f8fa6ba8244dc582c12bd6f7acc971": {
          "model_module": "@jupyter-widgets/controls",
          "model_name": "PasswordModel",
          "model_module_version": "1.5.0",
          "state": {
            "_dom_classes": [],
            "_model_module": "@jupyter-widgets/controls",
            "_model_module_version": "1.5.0",
            "_model_name": "PasswordModel",
            "_view_count": null,
            "_view_module": "@jupyter-widgets/controls",
            "_view_module_version": "1.5.0",
            "_view_name": "PasswordView",
            "continuous_update": true,
            "description": "Token:",
            "description_tooltip": null,
            "disabled": false,
            "layout": "IPY_MODEL_c70fe92c7d024ec3a43e8db088183bae",
            "placeholder": "​",
            "style": "IPY_MODEL_de1e4f1a7aa94fed9eb8a7d1cf975483",
            "value": "n.csv"
          }
        },
        "448f068b9ea24c3fac7ab68270823570": {
          "model_module": "@jupyter-widgets/controls",
          "model_name": "ButtonModel",
          "model_module_version": "1.5.0",
          "state": {
            "_dom_classes": [],
            "_model_module": "@jupyter-widgets/controls",
            "_model_module_version": "1.5.0",
            "_model_name": "ButtonModel",
            "_view_count": null,
            "_view_module": "@jupyter-widgets/controls",
            "_view_module_version": "1.5.0",
            "_view_name": "ButtonView",
            "button_style": "",
            "description": "Login",
            "disabled": false,
            "icon": "",
            "layout": "IPY_MODEL_d9a455947218490f8741ae05d84d89da",
            "style": "IPY_MODEL_81778cc6fe82470eacc7d4b8c4866219",
            "tooltip": ""
          }
        },
        "2423c338e102473bacf181f8d7436db7": {
          "model_module": "@jupyter-widgets/controls",
          "model_name": "HTMLModel",
          "model_module_version": "1.5.0",
          "state": {
            "_dom_classes": [],
            "_model_module": "@jupyter-widgets/controls",
            "_model_module_version": "1.5.0",
            "_model_name": "HTMLModel",
            "_view_count": null,
            "_view_module": "@jupyter-widgets/controls",
            "_view_module_version": "1.5.0",
            "_view_name": "HTMLView",
            "description": "",
            "description_tooltip": null,
            "layout": "IPY_MODEL_20d12c49f0e84b109aa5aa4e089af9d5",
            "placeholder": "​",
            "style": "IPY_MODEL_1309eb0edcde4ebd964e9a0bf4ea7dce",
            "value": "\n<b>Thank You</b></center>"
          }
        },
        "86a8df3351664aec94d3a5d818997e63": {
          "model_module": "@jupyter-widgets/base",
          "model_name": "LayoutModel",
          "model_module_version": "1.2.0",
          "state": {
            "_model_module": "@jupyter-widgets/base",
            "_model_module_version": "1.2.0",
            "_model_name": "LayoutModel",
            "_view_count": null,
            "_view_module": "@jupyter-widgets/base",
            "_view_module_version": "1.2.0",
            "_view_name": "LayoutView",
            "align_content": null,
            "align_items": "center",
            "align_self": null,
            "border": null,
            "bottom": null,
            "display": "flex",
            "flex": null,
            "flex_flow": "column",
            "grid_area": null,
            "grid_auto_columns": null,
            "grid_auto_flow": null,
            "grid_auto_rows": null,
            "grid_column": null,
            "grid_gap": null,
            "grid_row": null,
            "grid_template_areas": null,
            "grid_template_columns": null,
            "grid_template_rows": null,
            "height": null,
            "justify_content": null,
            "justify_items": null,
            "left": null,
            "margin": null,
            "max_height": null,
            "max_width": null,
            "min_height": null,
            "min_width": null,
            "object_fit": null,
            "object_position": null,
            "order": null,
            "overflow": null,
            "overflow_x": null,
            "overflow_y": null,
            "padding": null,
            "right": null,
            "top": null,
            "visibility": null,
            "width": "50%"
          }
        },
        "93dfc001227e4ad5a2d4f9af649ab8f3": {
          "model_module": "@jupyter-widgets/base",
          "model_name": "LayoutModel",
          "model_module_version": "1.2.0",
          "state": {
            "_model_module": "@jupyter-widgets/base",
            "_model_module_version": "1.2.0",
            "_model_name": "LayoutModel",
            "_view_count": null,
            "_view_module": "@jupyter-widgets/base",
            "_view_module_version": "1.2.0",
            "_view_name": "LayoutView",
            "align_content": null,
            "align_items": null,
            "align_self": null,
            "border": null,
            "bottom": null,
            "display": null,
            "flex": null,
            "flex_flow": null,
            "grid_area": null,
            "grid_auto_columns": null,
            "grid_auto_flow": null,
            "grid_auto_rows": null,
            "grid_column": null,
            "grid_gap": null,
            "grid_row": null,
            "grid_template_areas": null,
            "grid_template_columns": null,
            "grid_template_rows": null,
            "height": null,
            "justify_content": null,
            "justify_items": null,
            "left": null,
            "margin": null,
            "max_height": null,
            "max_width": null,
            "min_height": null,
            "min_width": null,
            "object_fit": null,
            "object_position": null,
            "order": null,
            "overflow": null,
            "overflow_x": null,
            "overflow_y": null,
            "padding": null,
            "right": null,
            "top": null,
            "visibility": null,
            "width": null
          }
        },
        "9eb134d5bffb4af6887b2ac154bd120b": {
          "model_module": "@jupyter-widgets/controls",
          "model_name": "DescriptionStyleModel",
          "model_module_version": "1.5.0",
          "state": {
            "_model_module": "@jupyter-widgets/controls",
            "_model_module_version": "1.5.0",
            "_model_name": "DescriptionStyleModel",
            "_view_count": null,
            "_view_module": "@jupyter-widgets/base",
            "_view_module_version": "1.2.0",
            "_view_name": "StyleView",
            "description_width": ""
          }
        },
        "27f4ff6510dd4bd99d5a7149f0a833f5": {
          "model_module": "@jupyter-widgets/base",
          "model_name": "LayoutModel",
          "model_module_version": "1.2.0",
          "state": {
            "_model_module": "@jupyter-widgets/base",
            "_model_module_version": "1.2.0",
            "_model_name": "LayoutModel",
            "_view_count": null,
            "_view_module": "@jupyter-widgets/base",
            "_view_module_version": "1.2.0",
            "_view_name": "LayoutView",
            "align_content": null,
            "align_items": null,
            "align_self": null,
            "border": null,
            "bottom": null,
            "display": null,
            "flex": null,
            "flex_flow": null,
            "grid_area": null,
            "grid_auto_columns": null,
            "grid_auto_flow": null,
            "grid_auto_rows": null,
            "grid_column": null,
            "grid_gap": null,
            "grid_row": null,
            "grid_template_areas": null,
            "grid_template_columns": null,
            "grid_template_rows": null,
            "height": null,
            "justify_content": null,
            "justify_items": null,
            "left": null,
            "margin": null,
            "max_height": null,
            "max_width": null,
            "min_height": null,
            "min_width": null,
            "object_fit": null,
            "object_position": null,
            "order": null,
            "overflow": null,
            "overflow_x": null,
            "overflow_y": null,
            "padding": null,
            "right": null,
            "top": null,
            "visibility": null,
            "width": null
          }
        },
        "b6aba97157094477a6d24ba3faf3015c": {
          "model_module": "@jupyter-widgets/controls",
          "model_name": "DescriptionStyleModel",
          "model_module_version": "1.5.0",
          "state": {
            "_model_module": "@jupyter-widgets/controls",
            "_model_module_version": "1.5.0",
            "_model_name": "DescriptionStyleModel",
            "_view_count": null,
            "_view_module": "@jupyter-widgets/base",
            "_view_module_version": "1.2.0",
            "_view_name": "StyleView",
            "description_width": ""
          }
        },
        "c70fe92c7d024ec3a43e8db088183bae": {
          "model_module": "@jupyter-widgets/base",
          "model_name": "LayoutModel",
          "model_module_version": "1.2.0",
          "state": {
            "_model_module": "@jupyter-widgets/base",
            "_model_module_version": "1.2.0",
            "_model_name": "LayoutModel",
            "_view_count": null,
            "_view_module": "@jupyter-widgets/base",
            "_view_module_version": "1.2.0",
            "_view_name": "LayoutView",
            "align_content": null,
            "align_items": null,
            "align_self": null,
            "border": null,
            "bottom": null,
            "display": null,
            "flex": null,
            "flex_flow": null,
            "grid_area": null,
            "grid_auto_columns": null,
            "grid_auto_flow": null,
            "grid_auto_rows": null,
            "grid_column": null,
            "grid_gap": null,
            "grid_row": null,
            "grid_template_areas": null,
            "grid_template_columns": null,
            "grid_template_rows": null,
            "height": null,
            "justify_content": null,
            "justify_items": null,
            "left": null,
            "margin": null,
            "max_height": null,
            "max_width": null,
            "min_height": null,
            "min_width": null,
            "object_fit": null,
            "object_position": null,
            "order": null,
            "overflow": null,
            "overflow_x": null,
            "overflow_y": null,
            "padding": null,
            "right": null,
            "top": null,
            "visibility": null,
            "width": null
          }
        },
        "de1e4f1a7aa94fed9eb8a7d1cf975483": {
          "model_module": "@jupyter-widgets/controls",
          "model_name": "DescriptionStyleModel",
          "model_module_version": "1.5.0",
          "state": {
            "_model_module": "@jupyter-widgets/controls",
            "_model_module_version": "1.5.0",
            "_model_name": "DescriptionStyleModel",
            "_view_count": null,
            "_view_module": "@jupyter-widgets/base",
            "_view_module_version": "1.2.0",
            "_view_name": "StyleView",
            "description_width": ""
          }
        },
        "d9a455947218490f8741ae05d84d89da": {
          "model_module": "@jupyter-widgets/base",
          "model_name": "LayoutModel",
          "model_module_version": "1.2.0",
          "state": {
            "_model_module": "@jupyter-widgets/base",
            "_model_module_version": "1.2.0",
            "_model_name": "LayoutModel",
            "_view_count": null,
            "_view_module": "@jupyter-widgets/base",
            "_view_module_version": "1.2.0",
            "_view_name": "LayoutView",
            "align_content": null,
            "align_items": null,
            "align_self": null,
            "border": null,
            "bottom": null,
            "display": null,
            "flex": null,
            "flex_flow": null,
            "grid_area": null,
            "grid_auto_columns": null,
            "grid_auto_flow": null,
            "grid_auto_rows": null,
            "grid_column": null,
            "grid_gap": null,
            "grid_row": null,
            "grid_template_areas": null,
            "grid_template_columns": null,
            "grid_template_rows": null,
            "height": null,
            "justify_content": null,
            "justify_items": null,
            "left": null,
            "margin": null,
            "max_height": null,
            "max_width": null,
            "min_height": null,
            "min_width": null,
            "object_fit": null,
            "object_position": null,
            "order": null,
            "overflow": null,
            "overflow_x": null,
            "overflow_y": null,
            "padding": null,
            "right": null,
            "top": null,
            "visibility": null,
            "width": null
          }
        },
        "81778cc6fe82470eacc7d4b8c4866219": {
          "model_module": "@jupyter-widgets/controls",
          "model_name": "ButtonStyleModel",
          "model_module_version": "1.5.0",
          "state": {
            "_model_module": "@jupyter-widgets/controls",
            "_model_module_version": "1.5.0",
            "_model_name": "ButtonStyleModel",
            "_view_count": null,
            "_view_module": "@jupyter-widgets/base",
            "_view_module_version": "1.2.0",
            "_view_name": "StyleView",
            "button_color": null,
            "font_weight": ""
          }
        },
        "20d12c49f0e84b109aa5aa4e089af9d5": {
          "model_module": "@jupyter-widgets/base",
          "model_name": "LayoutModel",
          "model_module_version": "1.2.0",
          "state": {
            "_model_module": "@jupyter-widgets/base",
            "_model_module_version": "1.2.0",
            "_model_name": "LayoutModel",
            "_view_count": null,
            "_view_module": "@jupyter-widgets/base",
            "_view_module_version": "1.2.0",
            "_view_name": "LayoutView",
            "align_content": null,
            "align_items": null,
            "align_self": null,
            "border": null,
            "bottom": null,
            "display": null,
            "flex": null,
            "flex_flow": null,
            "grid_area": null,
            "grid_auto_columns": null,
            "grid_auto_flow": null,
            "grid_auto_rows": null,
            "grid_column": null,
            "grid_gap": null,
            "grid_row": null,
            "grid_template_areas": null,
            "grid_template_columns": null,
            "grid_template_rows": null,
            "height": null,
            "justify_content": null,
            "justify_items": null,
            "left": null,
            "margin": null,
            "max_height": null,
            "max_width": null,
            "min_height": null,
            "min_width": null,
            "object_fit": null,
            "object_position": null,
            "order": null,
            "overflow": null,
            "overflow_x": null,
            "overflow_y": null,
            "padding": null,
            "right": null,
            "top": null,
            "visibility": null,
            "width": null
          }
        },
        "1309eb0edcde4ebd964e9a0bf4ea7dce": {
          "model_module": "@jupyter-widgets/controls",
          "model_name": "DescriptionStyleModel",
          "model_module_version": "1.5.0",
          "state": {
            "_model_module": "@jupyter-widgets/controls",
            "_model_module_version": "1.5.0",
            "_model_name": "DescriptionStyleModel",
            "_view_count": null,
            "_view_module": "@jupyter-widgets/base",
            "_view_module_version": "1.2.0",
            "_view_name": "StyleView",
            "description_width": ""
          }
        }
      }
    }
  },
  "nbformat_minor": 0,
  "nbformat": 4,
  "cells": [
    {
      "cell_type": "markdown",
      "metadata": {
        "id": "view-in-github",
        "colab_type": "text"
      },
      "source": [
        "<a href=\"https://colab.research.google.com/github/Akhilmosali/Akhilmosali/blob/main/Spaceship_Titanic_with_TFDF.ipynb\" target=\"_parent\"><img src=\"https://colab.research.google.com/assets/colab-badge.svg\" alt=\"Open In Colab\"/></a>"
      ]
    },
    {
      "source": [
        "# IMPORTANT: SOME KAGGLE DATA SOURCES ARE PRIVATE\n",
        "# RUN THIS CELL IN ORDER TO IMPORT YOUR KAGGLE DATA SOURCES.\n",
        "import kagglehub\n",
        "kagglehub.login()\n"
      ],
      "metadata": {
        "id": "t4FWXn_gKQr-",
        "outputId": "da4d9de3-5497-4d61-b51a-1d6179bdcf9f",
        "colab": {
          "base_uri": "https://localhost:8080/",
          "height": 300,
          "referenced_widgets": [
            "18c5545035b6410c9aa2f4766a0784f2",
            "cbf1340972734a1c84a96c17e5391fcd",
            "be6bc3436a074d4db523ff28cc2d6bd3",
            "a8f8fa6ba8244dc582c12bd6f7acc971",
            "448f068b9ea24c3fac7ab68270823570",
            "2423c338e102473bacf181f8d7436db7",
            "86a8df3351664aec94d3a5d818997e63",
            "93dfc001227e4ad5a2d4f9af649ab8f3",
            "9eb134d5bffb4af6887b2ac154bd120b",
            "27f4ff6510dd4bd99d5a7149f0a833f5",
            "b6aba97157094477a6d24ba3faf3015c",
            "c70fe92c7d024ec3a43e8db088183bae",
            "de1e4f1a7aa94fed9eb8a7d1cf975483",
            "d9a455947218490f8741ae05d84d89da",
            "81778cc6fe82470eacc7d4b8c4866219",
            "20d12c49f0e84b109aa5aa4e089af9d5",
            "1309eb0edcde4ebd964e9a0bf4ea7dce"
          ]
        }
      },
      "cell_type": "code",
      "outputs": [
        {
          "output_type": "display_data",
          "data": {
            "text/plain": [
              "VBox(children=(HTML(value='<center> <img\\nsrc=https://www.kaggle.com/static/images/site-logo.png\\nalt=\\'Kaggle…"
            ],
            "application/vnd.jupyter.widget-view+json": {
              "version_major": 2,
              "version_minor": 0,
              "model_id": "18c5545035b6410c9aa2f4766a0784f2"
            }
          },
          "metadata": {}
        }
      ],
      "execution_count": 13
    },
    {
      "source": [
        "# IMPORTANT: RUN THIS CELL IN ORDER TO IMPORT YOUR KAGGLE DATA SOURCES,\n",
        "# THEN FEEL FREE TO DELETE THIS CELL.\n",
        "# NOTE: THIS NOTEBOOK ENVIRONMENT DIFFERS FROM KAGGLE'S PYTHON\n",
        "# ENVIRONMENT SO THERE MAY BE MISSING LIBRARIES USED BY YOUR\n",
        "# NOTEBOOK.\n",
        "\n",
        "spaceship_titanic_path = kagglehub.competition_download('spaceship-titanic')\n",
        "\n",
        "print('Data source import complete.')\n"
      ],
      "metadata": {
        "id": "Pt-5w-N7KQr-",
        "outputId": "7b977a6d-274d-4c41-d3f2-112f4f13e816",
        "colab": {
          "base_uri": "https://localhost:8080/"
        }
      },
      "cell_type": "code",
      "outputs": [
        {
          "output_type": "stream",
          "name": "stdout",
          "text": [
            "Downloading from https://www.kaggle.com/api/v1/competitions/data/download-all/spaceship-titanic...\n"
          ]
        },
        {
          "output_type": "stream",
          "name": "stderr",
          "text": [
            "100%|██████████| 299k/299k [00:00<00:00, 52.7MB/s]"
          ]
        },
        {
          "output_type": "stream",
          "name": "stdout",
          "text": [
            "Extracting files...\n",
            "Data source import complete.\n"
          ]
        },
        {
          "output_type": "stream",
          "name": "stderr",
          "text": [
            "\n"
          ]
        }
      ],
      "execution_count": 2
    },
    {
      "cell_type": "markdown",
      "source": [
        "# Spaceship Titanic Dataset with TensorFlow Decision Forests"
      ],
      "metadata": {
        "id": "Ck00s7mTmnjA"
      }
    },
    {
      "cell_type": "code",
      "source": [
        "!pip install tensorflow_decision_forests"
      ],
      "metadata": {
        "id": "4vVluCV2LW3l",
        "outputId": "3fdcf7e6-630f-4f75-d3df-5d5f169460e1",
        "colab": {
          "base_uri": "https://localhost:8080/"
        }
      },
      "execution_count": 2,
      "outputs": [
        {
          "output_type": "stream",
          "name": "stdout",
          "text": [
            "Collecting tensorflow_decision_forests\n",
            "  Downloading tensorflow_decision_forests-1.11.0-cp311-cp311-manylinux_2_17_x86_64.manylinux2014_x86_64.whl.metadata (6.0 kB)\n",
            "Requirement already satisfied: numpy in /usr/local/lib/python3.11/dist-packages (from tensorflow_decision_forests) (1.26.4)\n",
            "Requirement already satisfied: pandas in /usr/local/lib/python3.11/dist-packages (from tensorflow_decision_forests) (2.2.2)\n",
            "Requirement already satisfied: tensorflow==2.18.0 in /usr/local/lib/python3.11/dist-packages (from tensorflow_decision_forests) (2.18.0)\n",
            "Requirement already satisfied: six in /usr/local/lib/python3.11/dist-packages (from tensorflow_decision_forests) (1.17.0)\n",
            "Requirement already satisfied: absl-py in /usr/local/lib/python3.11/dist-packages (from tensorflow_decision_forests) (1.4.0)\n",
            "Requirement already satisfied: wheel in /usr/local/lib/python3.11/dist-packages (from tensorflow_decision_forests) (0.45.1)\n",
            "Collecting wurlitzer (from tensorflow_decision_forests)\n",
            "  Downloading wurlitzer-3.1.1-py3-none-any.whl.metadata (2.5 kB)\n",
            "Requirement already satisfied: tf-keras~=2.17 in /usr/local/lib/python3.11/dist-packages (from tensorflow_decision_forests) (2.18.0)\n",
            "Collecting ydf (from tensorflow_decision_forests)\n",
            "  Downloading ydf-0.10.0-cp311-cp311-manylinux_2_17_x86_64.manylinux2014_x86_64.whl.metadata (3.5 kB)\n",
            "Requirement already satisfied: astunparse>=1.6.0 in /usr/local/lib/python3.11/dist-packages (from tensorflow==2.18.0->tensorflow_decision_forests) (1.6.3)\n",
            "Requirement already satisfied: flatbuffers>=24.3.25 in /usr/local/lib/python3.11/dist-packages (from tensorflow==2.18.0->tensorflow_decision_forests) (25.1.24)\n",
            "Requirement already satisfied: gast!=0.5.0,!=0.5.1,!=0.5.2,>=0.2.1 in /usr/local/lib/python3.11/dist-packages (from tensorflow==2.18.0->tensorflow_decision_forests) (0.6.0)\n",
            "Requirement already satisfied: google-pasta>=0.1.1 in /usr/local/lib/python3.11/dist-packages (from tensorflow==2.18.0->tensorflow_decision_forests) (0.2.0)\n",
            "Requirement already satisfied: libclang>=13.0.0 in /usr/local/lib/python3.11/dist-packages (from tensorflow==2.18.0->tensorflow_decision_forests) (18.1.1)\n",
            "Requirement already satisfied: opt-einsum>=2.3.2 in /usr/local/lib/python3.11/dist-packages (from tensorflow==2.18.0->tensorflow_decision_forests) (3.4.0)\n",
            "Requirement already satisfied: packaging in /usr/local/lib/python3.11/dist-packages (from tensorflow==2.18.0->tensorflow_decision_forests) (24.2)\n",
            "Requirement already satisfied: protobuf!=4.21.0,!=4.21.1,!=4.21.2,!=4.21.3,!=4.21.4,!=4.21.5,<6.0.0dev,>=3.20.3 in /usr/local/lib/python3.11/dist-packages (from tensorflow==2.18.0->tensorflow_decision_forests) (4.25.6)\n",
            "Requirement already satisfied: requests<3,>=2.21.0 in /usr/local/lib/python3.11/dist-packages (from tensorflow==2.18.0->tensorflow_decision_forests) (2.32.3)\n",
            "Requirement already satisfied: setuptools in /usr/local/lib/python3.11/dist-packages (from tensorflow==2.18.0->tensorflow_decision_forests) (75.1.0)\n",
            "Requirement already satisfied: termcolor>=1.1.0 in /usr/local/lib/python3.11/dist-packages (from tensorflow==2.18.0->tensorflow_decision_forests) (2.5.0)\n",
            "Requirement already satisfied: typing-extensions>=3.6.6 in /usr/local/lib/python3.11/dist-packages (from tensorflow==2.18.0->tensorflow_decision_forests) (4.12.2)\n",
            "Requirement already satisfied: wrapt>=1.11.0 in /usr/local/lib/python3.11/dist-packages (from tensorflow==2.18.0->tensorflow_decision_forests) (1.17.2)\n",
            "Requirement already satisfied: grpcio<2.0,>=1.24.3 in /usr/local/lib/python3.11/dist-packages (from tensorflow==2.18.0->tensorflow_decision_forests) (1.70.0)\n",
            "Requirement already satisfied: tensorboard<2.19,>=2.18 in /usr/local/lib/python3.11/dist-packages (from tensorflow==2.18.0->tensorflow_decision_forests) (2.18.0)\n",
            "Requirement already satisfied: keras>=3.5.0 in /usr/local/lib/python3.11/dist-packages (from tensorflow==2.18.0->tensorflow_decision_forests) (3.8.0)\n",
            "Requirement already satisfied: h5py>=3.11.0 in /usr/local/lib/python3.11/dist-packages (from tensorflow==2.18.0->tensorflow_decision_forests) (3.12.1)\n",
            "Requirement already satisfied: ml-dtypes<0.5.0,>=0.4.0 in /usr/local/lib/python3.11/dist-packages (from tensorflow==2.18.0->tensorflow_decision_forests) (0.4.1)\n",
            "Requirement already satisfied: tensorflow-io-gcs-filesystem>=0.23.1 in /usr/local/lib/python3.11/dist-packages (from tensorflow==2.18.0->tensorflow_decision_forests) (0.37.1)\n",
            "Requirement already satisfied: python-dateutil>=2.8.2 in /usr/local/lib/python3.11/dist-packages (from pandas->tensorflow_decision_forests) (2.8.2)\n",
            "Requirement already satisfied: pytz>=2020.1 in /usr/local/lib/python3.11/dist-packages (from pandas->tensorflow_decision_forests) (2025.1)\n",
            "Requirement already satisfied: tzdata>=2022.7 in /usr/local/lib/python3.11/dist-packages (from pandas->tensorflow_decision_forests) (2025.1)\n",
            "Collecting protobuf!=4.21.0,!=4.21.1,!=4.21.2,!=4.21.3,!=4.21.4,!=4.21.5,<6.0.0dev,>=3.20.3 (from tensorflow==2.18.0->tensorflow_decision_forests)\n",
            "  Downloading protobuf-5.29.3-cp38-abi3-manylinux2014_x86_64.whl.metadata (592 bytes)\n",
            "Requirement already satisfied: rich in /usr/local/lib/python3.11/dist-packages (from keras>=3.5.0->tensorflow==2.18.0->tensorflow_decision_forests) (13.9.4)\n",
            "Requirement already satisfied: namex in /usr/local/lib/python3.11/dist-packages (from keras>=3.5.0->tensorflow==2.18.0->tensorflow_decision_forests) (0.0.8)\n",
            "Requirement already satisfied: optree in /usr/local/lib/python3.11/dist-packages (from keras>=3.5.0->tensorflow==2.18.0->tensorflow_decision_forests) (0.14.0)\n",
            "Requirement already satisfied: charset-normalizer<4,>=2 in /usr/local/lib/python3.11/dist-packages (from requests<3,>=2.21.0->tensorflow==2.18.0->tensorflow_decision_forests) (3.4.1)\n",
            "Requirement already satisfied: idna<4,>=2.5 in /usr/local/lib/python3.11/dist-packages (from requests<3,>=2.21.0->tensorflow==2.18.0->tensorflow_decision_forests) (3.10)\n",
            "Requirement already satisfied: urllib3<3,>=1.21.1 in /usr/local/lib/python3.11/dist-packages (from requests<3,>=2.21.0->tensorflow==2.18.0->tensorflow_decision_forests) (2.3.0)\n",
            "Requirement already satisfied: certifi>=2017.4.17 in /usr/local/lib/python3.11/dist-packages (from requests<3,>=2.21.0->tensorflow==2.18.0->tensorflow_decision_forests) (2025.1.31)\n",
            "Requirement already satisfied: markdown>=2.6.8 in /usr/local/lib/python3.11/dist-packages (from tensorboard<2.19,>=2.18->tensorflow==2.18.0->tensorflow_decision_forests) (3.7)\n",
            "Requirement already satisfied: tensorboard-data-server<0.8.0,>=0.7.0 in /usr/local/lib/python3.11/dist-packages (from tensorboard<2.19,>=2.18->tensorflow==2.18.0->tensorflow_decision_forests) (0.7.2)\n",
            "Requirement already satisfied: werkzeug>=1.0.1 in /usr/local/lib/python3.11/dist-packages (from tensorboard<2.19,>=2.18->tensorflow==2.18.0->tensorflow_decision_forests) (3.1.3)\n",
            "Requirement already satisfied: MarkupSafe>=2.1.1 in /usr/local/lib/python3.11/dist-packages (from werkzeug>=1.0.1->tensorboard<2.19,>=2.18->tensorflow==2.18.0->tensorflow_decision_forests) (3.0.2)\n",
            "Requirement already satisfied: markdown-it-py>=2.2.0 in /usr/local/lib/python3.11/dist-packages (from rich->keras>=3.5.0->tensorflow==2.18.0->tensorflow_decision_forests) (3.0.0)\n",
            "Requirement already satisfied: pygments<3.0.0,>=2.13.0 in /usr/local/lib/python3.11/dist-packages (from rich->keras>=3.5.0->tensorflow==2.18.0->tensorflow_decision_forests) (2.18.0)\n",
            "Requirement already satisfied: mdurl~=0.1 in /usr/local/lib/python3.11/dist-packages (from markdown-it-py>=2.2.0->rich->keras>=3.5.0->tensorflow==2.18.0->tensorflow_decision_forests) (0.1.2)\n",
            "Downloading tensorflow_decision_forests-1.11.0-cp311-cp311-manylinux_2_17_x86_64.manylinux2014_x86_64.whl (15.9 MB)\n",
            "\u001b[2K   \u001b[90m━━━━━━━━━━━━━━━━━━━━━━━━━━━━━━━━━━━━━━━━\u001b[0m \u001b[32m15.9/15.9 MB\u001b[0m \u001b[31m53.4 MB/s\u001b[0m eta \u001b[36m0:00:00\u001b[0m\n",
            "\u001b[?25hDownloading wurlitzer-3.1.1-py3-none-any.whl (8.6 kB)\n",
            "Downloading ydf-0.10.0-cp311-cp311-manylinux_2_17_x86_64.manylinux2014_x86_64.whl (10.6 MB)\n",
            "\u001b[2K   \u001b[90m━━━━━━━━━━━━━━━━━━━━━━━━━━━━━━━━━━━━━━━━\u001b[0m \u001b[32m10.6/10.6 MB\u001b[0m \u001b[31m64.5 MB/s\u001b[0m eta \u001b[36m0:00:00\u001b[0m\n",
            "\u001b[?25hDownloading protobuf-5.29.3-cp38-abi3-manylinux2014_x86_64.whl (319 kB)\n",
            "\u001b[2K   \u001b[90m━━━━━━━━━━━━━━━━━━━━━━━━━━━━━━━━━━━━━━━━\u001b[0m \u001b[32m319.7/319.7 kB\u001b[0m \u001b[31m21.1 MB/s\u001b[0m eta \u001b[36m0:00:00\u001b[0m\n",
            "\u001b[?25hInstalling collected packages: wurlitzer, protobuf, ydf, tensorflow_decision_forests\n",
            "  Attempting uninstall: protobuf\n",
            "    Found existing installation: protobuf 4.25.6\n",
            "    Uninstalling protobuf-4.25.6:\n",
            "      Successfully uninstalled protobuf-4.25.6\n",
            "Successfully installed protobuf-5.29.3 tensorflow_decision_forests-1.11.0 wurlitzer-3.1.1 ydf-0.10.0\n"
          ]
        }
      ]
    },
    {
      "cell_type": "markdown",
      "source": [
        "This notebook walks you through how to train a baseline Random Forest model using TensorFlow Decision Forests on the Spaceship Titanic dataset made available for this competition.\n",
        "\n",
        "Roughly, the code will look as follows:\n",
        "\n",
        "```\n",
        "import tensorflow_decision_forests as tfdf\n",
        "import pandas as pd\n",
        "\n",
        "dataset = pd.read_csv(\"project/dataset.csv\")\n",
        "tf_dataset = tfdf.keras.pd_dataframe_to_tf_dataset(dataset, label=\"my_label\")\n",
        "\n",
        "model = tfdf.keras.RandomForestModel()\n",
        "model.fit(tf_dataset)\n",
        "\n",
        "print(model.summary())\n",
        "```\n",
        "\n",
        "Decision Forests are a family of tree-based models including Random Forests and Gradient Boosted Trees. They are the best place to start when working with tabular data, and will often outperform (or provide a strong baseline) before you begin experimenting with neural networks."
      ],
      "metadata": {
        "id": "62leGXylmnjF"
      }
    },
    {
      "cell_type": "markdown",
      "source": [
        "# Import the library"
      ],
      "metadata": {
        "id": "UPNzfVOEmnjH"
      }
    },
    {
      "cell_type": "code",
      "source": [
        "import tensorflow as tf\n",
        "import tensorflow_decision_forests as tfdf\n",
        "import pandas as pd\n",
        "import numpy as np\n",
        "import seaborn as sns\n",
        "import matplotlib.pyplot as plt"
      ],
      "metadata": {
        "id": "mmwBzpblmnjH",
        "execution": {
          "iopub.status.busy": "2023-03-17T11:37:48.407982Z",
          "iopub.execute_input": "2023-03-17T11:37:48.408367Z",
          "iopub.status.idle": "2023-03-17T11:38:00.236292Z",
          "shell.execute_reply.started": "2023-03-17T11:37:48.408331Z",
          "shell.execute_reply": "2023-03-17T11:38:00.234875Z"
        },
        "trusted": true,
        "outputId": "15d7306f-f1c0-469c-f3ee-61b4a5dc8ac2",
        "colab": {
          "base_uri": "https://localhost:8080/",
          "height": 385
        }
      },
      "execution_count": 1,
      "outputs": [
        {
          "output_type": "error",
          "ename": "ModuleNotFoundError",
          "evalue": "No module named 'tensorflow_decision_forests'",
          "traceback": [
            "\u001b[0;31m---------------------------------------------------------------------------\u001b[0m",
            "\u001b[0;31mModuleNotFoundError\u001b[0m                       Traceback (most recent call last)",
            "\u001b[0;32m<ipython-input-1-48d777a00e5a>\u001b[0m in \u001b[0;36m<cell line: 0>\u001b[0;34m()\u001b[0m\n\u001b[1;32m      1\u001b[0m \u001b[0;32mimport\u001b[0m \u001b[0mtensorflow\u001b[0m \u001b[0;32mas\u001b[0m \u001b[0mtf\u001b[0m\u001b[0;34m\u001b[0m\u001b[0;34m\u001b[0m\u001b[0m\n\u001b[0;32m----> 2\u001b[0;31m \u001b[0;32mimport\u001b[0m \u001b[0mtensorflow_decision_forests\u001b[0m \u001b[0;32mas\u001b[0m \u001b[0mtfdf\u001b[0m\u001b[0;34m\u001b[0m\u001b[0;34m\u001b[0m\u001b[0m\n\u001b[0m\u001b[1;32m      3\u001b[0m \u001b[0;32mimport\u001b[0m \u001b[0mpandas\u001b[0m \u001b[0;32mas\u001b[0m \u001b[0mpd\u001b[0m\u001b[0;34m\u001b[0m\u001b[0;34m\u001b[0m\u001b[0m\n\u001b[1;32m      4\u001b[0m \u001b[0;32mimport\u001b[0m \u001b[0mnumpy\u001b[0m \u001b[0;32mas\u001b[0m \u001b[0mnp\u001b[0m\u001b[0;34m\u001b[0m\u001b[0;34m\u001b[0m\u001b[0m\n\u001b[1;32m      5\u001b[0m \u001b[0;32mimport\u001b[0m \u001b[0mseaborn\u001b[0m \u001b[0;32mas\u001b[0m \u001b[0msns\u001b[0m\u001b[0;34m\u001b[0m\u001b[0;34m\u001b[0m\u001b[0m\n",
            "\u001b[0;31mModuleNotFoundError\u001b[0m: No module named 'tensorflow_decision_forests'",
            "",
            "\u001b[0;31m---------------------------------------------------------------------------\u001b[0;32m\nNOTE: If your import is failing due to a missing package, you can\nmanually install dependencies using either !pip or !apt.\n\nTo view examples of installing some common dependencies, click the\n\"Open Examples\" button below.\n\u001b[0;31m---------------------------------------------------------------------------\u001b[0m\n"
          ],
          "errorDetails": {
            "actions": [
              {
                "action": "open_url",
                "actionText": "Open Examples",
                "url": "/notebooks/snippets/importing_libraries.ipynb"
              }
            ]
          }
        }
      ]
    },
    {
      "cell_type": "code",
      "source": [],
      "metadata": {
        "id": "F6wXRPkVL8f4"
      },
      "execution_count": null,
      "outputs": []
    },
    {
      "cell_type": "code",
      "source": [
        "print(\"TensorFlow v\" + tf.__version__)\n",
        "print(\"TensorFlow Decision Forests v\" + tfdf.__version__)"
      ],
      "metadata": {
        "id": "grAO86gTmnjJ",
        "execution": {
          "iopub.status.busy": "2023-03-17T11:38:00.238349Z",
          "iopub.execute_input": "2023-03-17T11:38:00.239383Z",
          "iopub.status.idle": "2023-03-17T11:38:00.246806Z",
          "shell.execute_reply.started": "2023-03-17T11:38:00.23934Z",
          "shell.execute_reply": "2023-03-17T11:38:00.245563Z"
        },
        "trusted": true,
        "outputId": "2ad385b1-5421-4e35-b5ef-532854c42752",
        "colab": {
          "base_uri": "https://localhost:8080/"
        }
      },
      "execution_count": 6,
      "outputs": [
        {
          "output_type": "stream",
          "name": "stdout",
          "text": [
            "TensorFlow v2.18.0\n",
            "TensorFlow Decision Forests v1.11.0\n"
          ]
        }
      ]
    },
    {
      "cell_type": "markdown",
      "source": [
        "# Load the Dataset"
      ],
      "metadata": {
        "id": "6sHFpppPmnjJ"
      }
    },
    {
      "cell_type": "code",
      "source": [
        "# Load a dataset into a Pandas Dataframe\n",
        "dataset_df = pd.read_csv('/content/sample_submission.csv')\n",
        "print(\"Full train dataset shape is {}\".format(dataset_df.shape))"
      ],
      "metadata": {
        "id": "c1P3Y3a7mnjL",
        "execution": {
          "iopub.status.busy": "2023-03-17T11:38:00.24843Z",
          "iopub.execute_input": "2023-03-17T11:38:00.248845Z",
          "iopub.status.idle": "2023-03-17T11:38:00.331706Z",
          "shell.execute_reply.started": "2023-03-17T11:38:00.248794Z",
          "shell.execute_reply": "2023-03-17T11:38:00.330322Z"
        },
        "trusted": true,
        "outputId": "083ebbbe-5a9e-43e0-f7ed-ce6bf813edc2",
        "colab": {
          "base_uri": "https://localhost:8080/",
          "height": 339
        }
      },
      "execution_count": 12,
      "outputs": [
        {
          "output_type": "error",
          "ename": "FileNotFoundError",
          "evalue": "[Errno 2] No such file or directory: '/content/sample_submission.csv'",
          "traceback": [
            "\u001b[0;31m---------------------------------------------------------------------------\u001b[0m",
            "\u001b[0;31mFileNotFoundError\u001b[0m                         Traceback (most recent call last)",
            "\u001b[0;32m<ipython-input-12-3f54fb64bcc5>\u001b[0m in \u001b[0;36m<cell line: 0>\u001b[0;34m()\u001b[0m\n\u001b[1;32m      1\u001b[0m \u001b[0;31m# Load a dataset into a Pandas Dataframe\u001b[0m\u001b[0;34m\u001b[0m\u001b[0;34m\u001b[0m\u001b[0m\n\u001b[0;32m----> 2\u001b[0;31m \u001b[0mdataset_df\u001b[0m \u001b[0;34m=\u001b[0m \u001b[0mpd\u001b[0m\u001b[0;34m.\u001b[0m\u001b[0mread_csv\u001b[0m\u001b[0;34m(\u001b[0m\u001b[0;34m'/content/sample_submission.csv'\u001b[0m\u001b[0;34m)\u001b[0m\u001b[0;34m\u001b[0m\u001b[0;34m\u001b[0m\u001b[0m\n\u001b[0m\u001b[1;32m      3\u001b[0m \u001b[0mprint\u001b[0m\u001b[0;34m(\u001b[0m\u001b[0;34m\"Full train dataset shape is {}\"\u001b[0m\u001b[0;34m.\u001b[0m\u001b[0mformat\u001b[0m\u001b[0;34m(\u001b[0m\u001b[0mdataset_df\u001b[0m\u001b[0;34m.\u001b[0m\u001b[0mshape\u001b[0m\u001b[0;34m)\u001b[0m\u001b[0;34m)\u001b[0m\u001b[0;34m\u001b[0m\u001b[0;34m\u001b[0m\u001b[0m\n",
            "\u001b[0;32m/usr/local/lib/python3.11/dist-packages/pandas/io/parsers/readers.py\u001b[0m in \u001b[0;36mread_csv\u001b[0;34m(filepath_or_buffer, sep, delimiter, header, names, index_col, usecols, dtype, engine, converters, true_values, false_values, skipinitialspace, skiprows, skipfooter, nrows, na_values, keep_default_na, na_filter, verbose, skip_blank_lines, parse_dates, infer_datetime_format, keep_date_col, date_parser, date_format, dayfirst, cache_dates, iterator, chunksize, compression, thousands, decimal, lineterminator, quotechar, quoting, doublequote, escapechar, comment, encoding, encoding_errors, dialect, on_bad_lines, delim_whitespace, low_memory, memory_map, float_precision, storage_options, dtype_backend)\u001b[0m\n\u001b[1;32m   1024\u001b[0m     \u001b[0mkwds\u001b[0m\u001b[0;34m.\u001b[0m\u001b[0mupdate\u001b[0m\u001b[0;34m(\u001b[0m\u001b[0mkwds_defaults\u001b[0m\u001b[0;34m)\u001b[0m\u001b[0;34m\u001b[0m\u001b[0;34m\u001b[0m\u001b[0m\n\u001b[1;32m   1025\u001b[0m \u001b[0;34m\u001b[0m\u001b[0m\n\u001b[0;32m-> 1026\u001b[0;31m     \u001b[0;32mreturn\u001b[0m \u001b[0m_read\u001b[0m\u001b[0;34m(\u001b[0m\u001b[0mfilepath_or_buffer\u001b[0m\u001b[0;34m,\u001b[0m \u001b[0mkwds\u001b[0m\u001b[0;34m)\u001b[0m\u001b[0;34m\u001b[0m\u001b[0;34m\u001b[0m\u001b[0m\n\u001b[0m\u001b[1;32m   1027\u001b[0m \u001b[0;34m\u001b[0m\u001b[0m\n\u001b[1;32m   1028\u001b[0m \u001b[0;34m\u001b[0m\u001b[0m\n",
            "\u001b[0;32m/usr/local/lib/python3.11/dist-packages/pandas/io/parsers/readers.py\u001b[0m in \u001b[0;36m_read\u001b[0;34m(filepath_or_buffer, kwds)\u001b[0m\n\u001b[1;32m    618\u001b[0m \u001b[0;34m\u001b[0m\u001b[0m\n\u001b[1;32m    619\u001b[0m     \u001b[0;31m# Create the parser.\u001b[0m\u001b[0;34m\u001b[0m\u001b[0;34m\u001b[0m\u001b[0m\n\u001b[0;32m--> 620\u001b[0;31m     \u001b[0mparser\u001b[0m \u001b[0;34m=\u001b[0m \u001b[0mTextFileReader\u001b[0m\u001b[0;34m(\u001b[0m\u001b[0mfilepath_or_buffer\u001b[0m\u001b[0;34m,\u001b[0m \u001b[0;34m**\u001b[0m\u001b[0mkwds\u001b[0m\u001b[0;34m)\u001b[0m\u001b[0;34m\u001b[0m\u001b[0;34m\u001b[0m\u001b[0m\n\u001b[0m\u001b[1;32m    621\u001b[0m \u001b[0;34m\u001b[0m\u001b[0m\n\u001b[1;32m    622\u001b[0m     \u001b[0;32mif\u001b[0m \u001b[0mchunksize\u001b[0m \u001b[0;32mor\u001b[0m \u001b[0miterator\u001b[0m\u001b[0;34m:\u001b[0m\u001b[0;34m\u001b[0m\u001b[0;34m\u001b[0m\u001b[0m\n",
            "\u001b[0;32m/usr/local/lib/python3.11/dist-packages/pandas/io/parsers/readers.py\u001b[0m in \u001b[0;36m__init__\u001b[0;34m(self, f, engine, **kwds)\u001b[0m\n\u001b[1;32m   1618\u001b[0m \u001b[0;34m\u001b[0m\u001b[0m\n\u001b[1;32m   1619\u001b[0m         \u001b[0mself\u001b[0m\u001b[0;34m.\u001b[0m\u001b[0mhandles\u001b[0m\u001b[0;34m:\u001b[0m \u001b[0mIOHandles\u001b[0m \u001b[0;34m|\u001b[0m \u001b[0;32mNone\u001b[0m \u001b[0;34m=\u001b[0m \u001b[0;32mNone\u001b[0m\u001b[0;34m\u001b[0m\u001b[0;34m\u001b[0m\u001b[0m\n\u001b[0;32m-> 1620\u001b[0;31m         \u001b[0mself\u001b[0m\u001b[0;34m.\u001b[0m\u001b[0m_engine\u001b[0m \u001b[0;34m=\u001b[0m \u001b[0mself\u001b[0m\u001b[0;34m.\u001b[0m\u001b[0m_make_engine\u001b[0m\u001b[0;34m(\u001b[0m\u001b[0mf\u001b[0m\u001b[0;34m,\u001b[0m \u001b[0mself\u001b[0m\u001b[0;34m.\u001b[0m\u001b[0mengine\u001b[0m\u001b[0;34m)\u001b[0m\u001b[0;34m\u001b[0m\u001b[0;34m\u001b[0m\u001b[0m\n\u001b[0m\u001b[1;32m   1621\u001b[0m \u001b[0;34m\u001b[0m\u001b[0m\n\u001b[1;32m   1622\u001b[0m     \u001b[0;32mdef\u001b[0m \u001b[0mclose\u001b[0m\u001b[0;34m(\u001b[0m\u001b[0mself\u001b[0m\u001b[0;34m)\u001b[0m \u001b[0;34m->\u001b[0m \u001b[0;32mNone\u001b[0m\u001b[0;34m:\u001b[0m\u001b[0;34m\u001b[0m\u001b[0;34m\u001b[0m\u001b[0m\n",
            "\u001b[0;32m/usr/local/lib/python3.11/dist-packages/pandas/io/parsers/readers.py\u001b[0m in \u001b[0;36m_make_engine\u001b[0;34m(self, f, engine)\u001b[0m\n\u001b[1;32m   1878\u001b[0m                 \u001b[0;32mif\u001b[0m \u001b[0;34m\"b\"\u001b[0m \u001b[0;32mnot\u001b[0m \u001b[0;32min\u001b[0m \u001b[0mmode\u001b[0m\u001b[0;34m:\u001b[0m\u001b[0;34m\u001b[0m\u001b[0;34m\u001b[0m\u001b[0m\n\u001b[1;32m   1879\u001b[0m                     \u001b[0mmode\u001b[0m \u001b[0;34m+=\u001b[0m \u001b[0;34m\"b\"\u001b[0m\u001b[0;34m\u001b[0m\u001b[0;34m\u001b[0m\u001b[0m\n\u001b[0;32m-> 1880\u001b[0;31m             self.handles = get_handle(\n\u001b[0m\u001b[1;32m   1881\u001b[0m                 \u001b[0mf\u001b[0m\u001b[0;34m,\u001b[0m\u001b[0;34m\u001b[0m\u001b[0;34m\u001b[0m\u001b[0m\n\u001b[1;32m   1882\u001b[0m                 \u001b[0mmode\u001b[0m\u001b[0;34m,\u001b[0m\u001b[0;34m\u001b[0m\u001b[0;34m\u001b[0m\u001b[0m\n",
            "\u001b[0;32m/usr/local/lib/python3.11/dist-packages/pandas/io/common.py\u001b[0m in \u001b[0;36mget_handle\u001b[0;34m(path_or_buf, mode, encoding, compression, memory_map, is_text, errors, storage_options)\u001b[0m\n\u001b[1;32m    871\u001b[0m         \u001b[0;32mif\u001b[0m \u001b[0mioargs\u001b[0m\u001b[0;34m.\u001b[0m\u001b[0mencoding\u001b[0m \u001b[0;32mand\u001b[0m \u001b[0;34m\"b\"\u001b[0m \u001b[0;32mnot\u001b[0m \u001b[0;32min\u001b[0m \u001b[0mioargs\u001b[0m\u001b[0;34m.\u001b[0m\u001b[0mmode\u001b[0m\u001b[0;34m:\u001b[0m\u001b[0;34m\u001b[0m\u001b[0;34m\u001b[0m\u001b[0m\n\u001b[1;32m    872\u001b[0m             \u001b[0;31m# Encoding\u001b[0m\u001b[0;34m\u001b[0m\u001b[0;34m\u001b[0m\u001b[0m\n\u001b[0;32m--> 873\u001b[0;31m             handle = open(\n\u001b[0m\u001b[1;32m    874\u001b[0m                 \u001b[0mhandle\u001b[0m\u001b[0;34m,\u001b[0m\u001b[0;34m\u001b[0m\u001b[0;34m\u001b[0m\u001b[0m\n\u001b[1;32m    875\u001b[0m                 \u001b[0mioargs\u001b[0m\u001b[0;34m.\u001b[0m\u001b[0mmode\u001b[0m\u001b[0;34m,\u001b[0m\u001b[0;34m\u001b[0m\u001b[0;34m\u001b[0m\u001b[0m\n",
            "\u001b[0;31mFileNotFoundError\u001b[0m: [Errno 2] No such file or directory: '/content/sample_submission.csv'"
          ]
        }
      ]
    },
    {
      "cell_type": "markdown",
      "source": [
        "The data is composed of 14 columns and 8693 entries. We can see all 14 dimensions of our dataset by printing out the first 5 entries using the following code:"
      ],
      "metadata": {
        "id": "cEd92zhJmnjL"
      }
    },
    {
      "cell_type": "code",
      "source": [
        "# Display the first 5 examples\n",
        "dataset_df.head(5)"
      ],
      "metadata": {
        "id": "nCx3PE1xmnjM",
        "execution": {
          "iopub.status.busy": "2023-03-17T11:38:00.334527Z",
          "iopub.execute_input": "2023-03-17T11:38:00.334921Z",
          "iopub.status.idle": "2023-03-17T11:38:00.375222Z",
          "shell.execute_reply.started": "2023-03-17T11:38:00.334887Z",
          "shell.execute_reply": "2023-03-17T11:38:00.373944Z"
        },
        "trusted": true,
        "outputId": "7fd3d25e-0662-4a23-9440-010be2df27d9",
        "colab": {
          "base_uri": "https://localhost:8080/",
          "height": 206
        }
      },
      "execution_count": 11,
      "outputs": [
        {
          "output_type": "execute_result",
          "data": {
            "text/plain": [
              "  PassengerId  Transported\n",
              "0     0013_01        False\n",
              "1     0018_01        False\n",
              "2     0019_01        False\n",
              "3     0021_01        False\n",
              "4     0023_01        False"
            ],
            "text/html": [
              "\n",
              "  <div id=\"df-02e5d79c-2996-41ff-b2d0-67d6c11a86ca\" class=\"colab-df-container\">\n",
              "    <div>\n",
              "<style scoped>\n",
              "    .dataframe tbody tr th:only-of-type {\n",
              "        vertical-align: middle;\n",
              "    }\n",
              "\n",
              "    .dataframe tbody tr th {\n",
              "        vertical-align: top;\n",
              "    }\n",
              "\n",
              "    .dataframe thead th {\n",
              "        text-align: right;\n",
              "    }\n",
              "</style>\n",
              "<table border=\"1\" class=\"dataframe\">\n",
              "  <thead>\n",
              "    <tr style=\"text-align: right;\">\n",
              "      <th></th>\n",
              "      <th>PassengerId</th>\n",
              "      <th>Transported</th>\n",
              "    </tr>\n",
              "  </thead>\n",
              "  <tbody>\n",
              "    <tr>\n",
              "      <th>0</th>\n",
              "      <td>0013_01</td>\n",
              "      <td>False</td>\n",
              "    </tr>\n",
              "    <tr>\n",
              "      <th>1</th>\n",
              "      <td>0018_01</td>\n",
              "      <td>False</td>\n",
              "    </tr>\n",
              "    <tr>\n",
              "      <th>2</th>\n",
              "      <td>0019_01</td>\n",
              "      <td>False</td>\n",
              "    </tr>\n",
              "    <tr>\n",
              "      <th>3</th>\n",
              "      <td>0021_01</td>\n",
              "      <td>False</td>\n",
              "    </tr>\n",
              "    <tr>\n",
              "      <th>4</th>\n",
              "      <td>0023_01</td>\n",
              "      <td>False</td>\n",
              "    </tr>\n",
              "  </tbody>\n",
              "</table>\n",
              "</div>\n",
              "    <div class=\"colab-df-buttons\">\n",
              "\n",
              "  <div class=\"colab-df-container\">\n",
              "    <button class=\"colab-df-convert\" onclick=\"convertToInteractive('df-02e5d79c-2996-41ff-b2d0-67d6c11a86ca')\"\n",
              "            title=\"Convert this dataframe to an interactive table.\"\n",
              "            style=\"display:none;\">\n",
              "\n",
              "  <svg xmlns=\"http://www.w3.org/2000/svg\" height=\"24px\" viewBox=\"0 -960 960 960\">\n",
              "    <path d=\"M120-120v-720h720v720H120Zm60-500h600v-160H180v160Zm220 220h160v-160H400v160Zm0 220h160v-160H400v160ZM180-400h160v-160H180v160Zm440 0h160v-160H620v160ZM180-180h160v-160H180v160Zm440 0h160v-160H620v160Z\"/>\n",
              "  </svg>\n",
              "    </button>\n",
              "\n",
              "  <style>\n",
              "    .colab-df-container {\n",
              "      display:flex;\n",
              "      gap: 12px;\n",
              "    }\n",
              "\n",
              "    .colab-df-convert {\n",
              "      background-color: #E8F0FE;\n",
              "      border: none;\n",
              "      border-radius: 50%;\n",
              "      cursor: pointer;\n",
              "      display: none;\n",
              "      fill: #1967D2;\n",
              "      height: 32px;\n",
              "      padding: 0 0 0 0;\n",
              "      width: 32px;\n",
              "    }\n",
              "\n",
              "    .colab-df-convert:hover {\n",
              "      background-color: #E2EBFA;\n",
              "      box-shadow: 0px 1px 2px rgba(60, 64, 67, 0.3), 0px 1px 3px 1px rgba(60, 64, 67, 0.15);\n",
              "      fill: #174EA6;\n",
              "    }\n",
              "\n",
              "    .colab-df-buttons div {\n",
              "      margin-bottom: 4px;\n",
              "    }\n",
              "\n",
              "    [theme=dark] .colab-df-convert {\n",
              "      background-color: #3B4455;\n",
              "      fill: #D2E3FC;\n",
              "    }\n",
              "\n",
              "    [theme=dark] .colab-df-convert:hover {\n",
              "      background-color: #434B5C;\n",
              "      box-shadow: 0px 1px 3px 1px rgba(0, 0, 0, 0.15);\n",
              "      filter: drop-shadow(0px 1px 2px rgba(0, 0, 0, 0.3));\n",
              "      fill: #FFFFFF;\n",
              "    }\n",
              "  </style>\n",
              "\n",
              "    <script>\n",
              "      const buttonEl =\n",
              "        document.querySelector('#df-02e5d79c-2996-41ff-b2d0-67d6c11a86ca button.colab-df-convert');\n",
              "      buttonEl.style.display =\n",
              "        google.colab.kernel.accessAllowed ? 'block' : 'none';\n",
              "\n",
              "      async function convertToInteractive(key) {\n",
              "        const element = document.querySelector('#df-02e5d79c-2996-41ff-b2d0-67d6c11a86ca');\n",
              "        const dataTable =\n",
              "          await google.colab.kernel.invokeFunction('convertToInteractive',\n",
              "                                                    [key], {});\n",
              "        if (!dataTable) return;\n",
              "\n",
              "        const docLinkHtml = 'Like what you see? Visit the ' +\n",
              "          '<a target=\"_blank\" href=https://colab.research.google.com/notebooks/data_table.ipynb>data table notebook</a>'\n",
              "          + ' to learn more about interactive tables.';\n",
              "        element.innerHTML = '';\n",
              "        dataTable['output_type'] = 'display_data';\n",
              "        await google.colab.output.renderOutput(dataTable, element);\n",
              "        const docLink = document.createElement('div');\n",
              "        docLink.innerHTML = docLinkHtml;\n",
              "        element.appendChild(docLink);\n",
              "      }\n",
              "    </script>\n",
              "  </div>\n",
              "\n",
              "\n",
              "<div id=\"df-817e4db3-9de0-4265-98d9-2a564517663a\">\n",
              "  <button class=\"colab-df-quickchart\" onclick=\"quickchart('df-817e4db3-9de0-4265-98d9-2a564517663a')\"\n",
              "            title=\"Suggest charts\"\n",
              "            style=\"display:none;\">\n",
              "\n",
              "<svg xmlns=\"http://www.w3.org/2000/svg\" height=\"24px\"viewBox=\"0 0 24 24\"\n",
              "     width=\"24px\">\n",
              "    <g>\n",
              "        <path d=\"M19 3H5c-1.1 0-2 .9-2 2v14c0 1.1.9 2 2 2h14c1.1 0 2-.9 2-2V5c0-1.1-.9-2-2-2zM9 17H7v-7h2v7zm4 0h-2V7h2v10zm4 0h-2v-4h2v4z\"/>\n",
              "    </g>\n",
              "</svg>\n",
              "  </button>\n",
              "\n",
              "<style>\n",
              "  .colab-df-quickchart {\n",
              "      --bg-color: #E8F0FE;\n",
              "      --fill-color: #1967D2;\n",
              "      --hover-bg-color: #E2EBFA;\n",
              "      --hover-fill-color: #174EA6;\n",
              "      --disabled-fill-color: #AAA;\n",
              "      --disabled-bg-color: #DDD;\n",
              "  }\n",
              "\n",
              "  [theme=dark] .colab-df-quickchart {\n",
              "      --bg-color: #3B4455;\n",
              "      --fill-color: #D2E3FC;\n",
              "      --hover-bg-color: #434B5C;\n",
              "      --hover-fill-color: #FFFFFF;\n",
              "      --disabled-bg-color: #3B4455;\n",
              "      --disabled-fill-color: #666;\n",
              "  }\n",
              "\n",
              "  .colab-df-quickchart {\n",
              "    background-color: var(--bg-color);\n",
              "    border: none;\n",
              "    border-radius: 50%;\n",
              "    cursor: pointer;\n",
              "    display: none;\n",
              "    fill: var(--fill-color);\n",
              "    height: 32px;\n",
              "    padding: 0;\n",
              "    width: 32px;\n",
              "  }\n",
              "\n",
              "  .colab-df-quickchart:hover {\n",
              "    background-color: var(--hover-bg-color);\n",
              "    box-shadow: 0 1px 2px rgba(60, 64, 67, 0.3), 0 1px 3px 1px rgba(60, 64, 67, 0.15);\n",
              "    fill: var(--button-hover-fill-color);\n",
              "  }\n",
              "\n",
              "  .colab-df-quickchart-complete:disabled,\n",
              "  .colab-df-quickchart-complete:disabled:hover {\n",
              "    background-color: var(--disabled-bg-color);\n",
              "    fill: var(--disabled-fill-color);\n",
              "    box-shadow: none;\n",
              "  }\n",
              "\n",
              "  .colab-df-spinner {\n",
              "    border: 2px solid var(--fill-color);\n",
              "    border-color: transparent;\n",
              "    border-bottom-color: var(--fill-color);\n",
              "    animation:\n",
              "      spin 1s steps(1) infinite;\n",
              "  }\n",
              "\n",
              "  @keyframes spin {\n",
              "    0% {\n",
              "      border-color: transparent;\n",
              "      border-bottom-color: var(--fill-color);\n",
              "      border-left-color: var(--fill-color);\n",
              "    }\n",
              "    20% {\n",
              "      border-color: transparent;\n",
              "      border-left-color: var(--fill-color);\n",
              "      border-top-color: var(--fill-color);\n",
              "    }\n",
              "    30% {\n",
              "      border-color: transparent;\n",
              "      border-left-color: var(--fill-color);\n",
              "      border-top-color: var(--fill-color);\n",
              "      border-right-color: var(--fill-color);\n",
              "    }\n",
              "    40% {\n",
              "      border-color: transparent;\n",
              "      border-right-color: var(--fill-color);\n",
              "      border-top-color: var(--fill-color);\n",
              "    }\n",
              "    60% {\n",
              "      border-color: transparent;\n",
              "      border-right-color: var(--fill-color);\n",
              "    }\n",
              "    80% {\n",
              "      border-color: transparent;\n",
              "      border-right-color: var(--fill-color);\n",
              "      border-bottom-color: var(--fill-color);\n",
              "    }\n",
              "    90% {\n",
              "      border-color: transparent;\n",
              "      border-bottom-color: var(--fill-color);\n",
              "    }\n",
              "  }\n",
              "</style>\n",
              "\n",
              "  <script>\n",
              "    async function quickchart(key) {\n",
              "      const quickchartButtonEl =\n",
              "        document.querySelector('#' + key + ' button');\n",
              "      quickchartButtonEl.disabled = true;  // To prevent multiple clicks.\n",
              "      quickchartButtonEl.classList.add('colab-df-spinner');\n",
              "      try {\n",
              "        const charts = await google.colab.kernel.invokeFunction(\n",
              "            'suggestCharts', [key], {});\n",
              "      } catch (error) {\n",
              "        console.error('Error during call to suggestCharts:', error);\n",
              "      }\n",
              "      quickchartButtonEl.classList.remove('colab-df-spinner');\n",
              "      quickchartButtonEl.classList.add('colab-df-quickchart-complete');\n",
              "    }\n",
              "    (() => {\n",
              "      let quickchartButtonEl =\n",
              "        document.querySelector('#df-817e4db3-9de0-4265-98d9-2a564517663a button');\n",
              "      quickchartButtonEl.style.display =\n",
              "        google.colab.kernel.accessAllowed ? 'block' : 'none';\n",
              "    })();\n",
              "  </script>\n",
              "</div>\n",
              "\n",
              "    </div>\n",
              "  </div>\n"
            ],
            "application/vnd.google.colaboratory.intrinsic+json": {
              "type": "dataframe",
              "variable_name": "dataset_df",
              "summary": "{\n  \"name\": \"dataset_df\",\n  \"rows\": 4277,\n  \"fields\": [\n    {\n      \"column\": \"PassengerId\",\n      \"properties\": {\n        \"dtype\": \"string\",\n        \"num_unique_values\": 4277,\n        \"samples\": [\n          \"1135_02\",\n          \"0858_02\",\n          \"5588_01\"\n        ],\n        \"semantic_type\": \"\",\n        \"description\": \"\"\n      }\n    },\n    {\n      \"column\": \"Transported\",\n      \"properties\": {\n        \"dtype\": \"boolean\",\n        \"num_unique_values\": 1,\n        \"samples\": [\n          false\n        ],\n        \"semantic_type\": \"\",\n        \"description\": \"\"\n      }\n    }\n  ]\n}"
            }
          },
          "metadata": {},
          "execution_count": 11
        }
      ]
    },
    {
      "cell_type": "markdown",
      "source": [
        "There are 12 feature columns. Using these features your model has to predict whether the passenger is rescued or not indicated by the column `Transported`."
      ],
      "metadata": {
        "id": "0-Euaq6dmnjN"
      }
    },
    {
      "cell_type": "markdown",
      "source": [
        "# Let us quickly do a basic exploration of the dataset"
      ],
      "metadata": {
        "id": "1-Ewr6XDmnjN"
      }
    },
    {
      "cell_type": "code",
      "source": [
        "dataset_df.describe()"
      ],
      "metadata": {
        "id": "XjwG5wjfmnjO",
        "execution": {
          "iopub.status.busy": "2023-03-17T11:38:00.377568Z",
          "iopub.execute_input": "2023-03-17T11:38:00.378197Z",
          "iopub.status.idle": "2023-03-17T11:38:00.424386Z",
          "shell.execute_reply.started": "2023-03-17T11:38:00.378158Z",
          "shell.execute_reply": "2023-03-17T11:38:00.422951Z"
        },
        "trusted": true
      },
      "execution_count": null,
      "outputs": []
    },
    {
      "cell_type": "code",
      "source": [
        "dataset_df.info()"
      ],
      "metadata": {
        "id": "UmWpnVxQmnjO",
        "execution": {
          "iopub.status.busy": "2023-03-17T11:38:00.426217Z",
          "iopub.execute_input": "2023-03-17T11:38:00.426812Z",
          "iopub.status.idle": "2023-03-17T11:38:00.453019Z",
          "shell.execute_reply.started": "2023-03-17T11:38:00.426758Z",
          "shell.execute_reply": "2023-03-17T11:38:00.45196Z"
        },
        "trusted": true
      },
      "execution_count": null,
      "outputs": []
    },
    {
      "cell_type": "markdown",
      "source": [
        "# Bar chart for label column: Transported\n",
        "\n"
      ],
      "metadata": {
        "id": "PYbIPVaCmnjO"
      }
    },
    {
      "cell_type": "code",
      "source": [
        "plot_df = dataset_df.Transported.value_counts()\n",
        "plot_df.plot(kind=\"bar\")"
      ],
      "metadata": {
        "id": "DcaGweARmnjP",
        "execution": {
          "iopub.status.busy": "2023-03-17T11:38:00.455165Z",
          "iopub.execute_input": "2023-03-17T11:38:00.455536Z",
          "iopub.status.idle": "2023-03-17T11:38:00.942523Z",
          "shell.execute_reply.started": "2023-03-17T11:38:00.455487Z",
          "shell.execute_reply": "2023-03-17T11:38:00.941488Z"
        },
        "trusted": true
      },
      "execution_count": null,
      "outputs": []
    },
    {
      "cell_type": "markdown",
      "source": [
        "# Numerical data distribution\n",
        "\n",
        "Let us plot all the numerical columns and their value counts:"
      ],
      "metadata": {
        "id": "LRO2hJlNmnjP"
      }
    },
    {
      "cell_type": "code",
      "source": [
        "fig, ax = plt.subplots(5,1,  figsize=(10, 10))\n",
        "plt.subplots_adjust(top = 2)\n",
        "\n",
        "sns.histplot(dataset_df['Age'], color='b', bins=50, ax=ax[0]);\n",
        "sns.histplot(dataset_df['FoodCourt'], color='b', bins=50, ax=ax[1]);\n",
        "sns.histplot(dataset_df['ShoppingMall'], color='b', bins=50, ax=ax[2]);\n",
        "sns.histplot(dataset_df['Spa'], color='b', bins=50, ax=ax[3]);\n",
        "sns.histplot(dataset_df['VRDeck'], color='b', bins=50, ax=ax[4]);"
      ],
      "metadata": {
        "id": "lafxj4fkmnjQ",
        "execution": {
          "iopub.status.busy": "2023-03-17T11:38:00.94365Z",
          "iopub.execute_input": "2023-03-17T11:38:00.94456Z",
          "iopub.status.idle": "2023-03-17T11:38:02.402936Z",
          "shell.execute_reply.started": "2023-03-17T11:38:00.94452Z",
          "shell.execute_reply": "2023-03-17T11:38:02.401861Z"
        },
        "trusted": true
      },
      "execution_count": null,
      "outputs": []
    },
    {
      "cell_type": "markdown",
      "source": [
        "# Prepare the dataset"
      ],
      "metadata": {
        "id": "Trlsxv1emnjQ"
      }
    },
    {
      "cell_type": "markdown",
      "source": [
        "We will drop both `PassengerId` and `Name` columns as they are not necessary for model training."
      ],
      "metadata": {
        "id": "c-BLN1jcmnjQ"
      }
    },
    {
      "cell_type": "code",
      "source": [
        "dataset_df = dataset_df.drop(['PassengerId', 'Name'], axis=1)\n",
        "dataset_df.head(5)"
      ],
      "metadata": {
        "id": "nftfBG67mnjR",
        "execution": {
          "iopub.status.busy": "2023-03-17T11:38:02.404126Z",
          "iopub.execute_input": "2023-03-17T11:38:02.404916Z",
          "iopub.status.idle": "2023-03-17T11:38:02.427789Z",
          "shell.execute_reply.started": "2023-03-17T11:38:02.404878Z",
          "shell.execute_reply": "2023-03-17T11:38:02.426792Z"
        },
        "trusted": true
      },
      "execution_count": null,
      "outputs": []
    },
    {
      "cell_type": "markdown",
      "source": [
        "We will check for the missing values using the following code:"
      ],
      "metadata": {
        "id": "pXhbIKCemnjR"
      }
    },
    {
      "cell_type": "code",
      "source": [
        "dataset_df.isnull().sum().sort_values(ascending=False)"
      ],
      "metadata": {
        "id": "3_VMZ9a1mnjR",
        "execution": {
          "iopub.status.busy": "2023-03-17T11:38:02.431608Z",
          "iopub.execute_input": "2023-03-17T11:38:02.432564Z",
          "iopub.status.idle": "2023-03-17T11:38:02.451371Z",
          "shell.execute_reply.started": "2023-03-17T11:38:02.432521Z",
          "shell.execute_reply": "2023-03-17T11:38:02.449797Z"
        },
        "trusted": true
      },
      "execution_count": null,
      "outputs": []
    },
    {
      "cell_type": "markdown",
      "source": [
        "This dataset contains a mix of numeric, categorical and missing features. TF-DF supports all these feature types natively, and no preprocessing is required.\n",
        "\n",
        "But this datatset also has boolean fields with missing values. TF-DF doesn't support boolean fields yet. So we need to convert those fields into int. To account for the missing values in the boolean fields, we will replace them with zero.\n",
        "\n",
        "In this notebook, we will replace null value entries with zero for numerical columns as well and only let TF-DF handle the missing values in categorical columns.\n",
        "\n",
        "Note: You can choose to let TF-DF handle missing values in numerical columns if need be."
      ],
      "metadata": {
        "id": "vlWOQl4fmnjS"
      }
    },
    {
      "cell_type": "code",
      "source": [
        "dataset_df[['VIP', 'CryoSleep', 'FoodCourt', 'ShoppingMall', 'Spa', 'VRDeck']] = dataset_df[['VIP', 'CryoSleep', 'FoodCourt', 'ShoppingMall', 'Spa', 'VRDeck']].fillna(value=0)\n",
        "dataset_df.isnull().sum().sort_values(ascending=False)"
      ],
      "metadata": {
        "id": "ASQ5Bh2JmnjS",
        "execution": {
          "iopub.status.busy": "2023-03-17T11:38:02.452817Z",
          "iopub.execute_input": "2023-03-17T11:38:02.453226Z",
          "iopub.status.idle": "2023-03-17T11:38:02.474601Z",
          "shell.execute_reply.started": "2023-03-17T11:38:02.453184Z",
          "shell.execute_reply": "2023-03-17T11:38:02.47315Z"
        },
        "trusted": true
      },
      "execution_count": null,
      "outputs": []
    },
    {
      "cell_type": "markdown",
      "source": [
        "Since, TF-DF cannot handle boolean columns, we will have to adjust the labels in column `Transported` to convert them into the integer format that TF-DF expects."
      ],
      "metadata": {
        "id": "tFbE6D0BmnjT"
      }
    },
    {
      "cell_type": "code",
      "source": [
        "label = \"Transported\"\n",
        "dataset_df[label] = dataset_df[label].astype(int)"
      ],
      "metadata": {
        "id": "-T6a_RTxmnjT",
        "execution": {
          "iopub.status.busy": "2023-03-17T11:38:02.476304Z",
          "iopub.execute_input": "2023-03-17T11:38:02.476771Z",
          "iopub.status.idle": "2023-03-17T11:38:02.483629Z",
          "shell.execute_reply.started": "2023-03-17T11:38:02.476723Z",
          "shell.execute_reply": "2023-03-17T11:38:02.48248Z"
        },
        "trusted": true
      },
      "execution_count": null,
      "outputs": []
    },
    {
      "cell_type": "markdown",
      "source": [
        "We will also convert the boolean fields `CryoSleep` and `VIP` to int."
      ],
      "metadata": {
        "id": "F6-GATuzmnjU"
      }
    },
    {
      "cell_type": "code",
      "source": [
        "dataset_df['VIP'] = dataset_df['VIP'].astype(int)\n",
        "dataset_df['CryoSleep'] = dataset_df['CryoSleep'].astype(int)"
      ],
      "metadata": {
        "id": "Wq6PbMnnmnjU",
        "execution": {
          "iopub.status.busy": "2023-03-17T11:38:02.48528Z",
          "iopub.execute_input": "2023-03-17T11:38:02.486082Z",
          "iopub.status.idle": "2023-03-17T11:38:02.500728Z",
          "shell.execute_reply.started": "2023-03-17T11:38:02.486027Z",
          "shell.execute_reply": "2023-03-17T11:38:02.499677Z"
        },
        "trusted": true
      },
      "execution_count": null,
      "outputs": []
    },
    {
      "cell_type": "markdown",
      "source": [
        "The value of column `Cabin` is a string with the format `Deck/Cabin_num/Side`. Here we will split the `Cabin` column and create 3 new columns `Deck`, `Cabin_num` and `Side`, since it will be easier to train the model on those individual data.\n",
        "\n",
        "Run the following command to split the column `Cabin` into columns `Deck`, `Cabin_num` and `Side`"
      ],
      "metadata": {
        "id": "enjp51h_mnjV"
      }
    },
    {
      "cell_type": "code",
      "source": [
        "dataset_df[[\"Deck\", \"Cabin_num\", \"Side\"]] = dataset_df[\"Cabin\"].str.split(\"/\", expand=True)"
      ],
      "metadata": {
        "id": "JeAuUvb_mnjV",
        "execution": {
          "iopub.status.busy": "2023-03-17T11:38:02.502051Z",
          "iopub.execute_input": "2023-03-17T11:38:02.502591Z",
          "iopub.status.idle": "2023-03-17T11:38:02.532257Z",
          "shell.execute_reply.started": "2023-03-17T11:38:02.502556Z",
          "shell.execute_reply": "2023-03-17T11:38:02.530824Z"
        },
        "trusted": true
      },
      "execution_count": null,
      "outputs": []
    },
    {
      "cell_type": "markdown",
      "source": [
        "Remove original `Cabin` column from the dataset since it's not needed anymore."
      ],
      "metadata": {
        "id": "vNYEd1AkmnjV"
      }
    },
    {
      "cell_type": "code",
      "source": [
        "try:\n",
        "    dataset_df = dataset_df.drop('Cabin', axis=1)\n",
        "except KeyError:\n",
        "    print(\"Field does not exist\")"
      ],
      "metadata": {
        "id": "dOcny3s4mnjV",
        "execution": {
          "iopub.status.busy": "2023-03-17T11:38:02.534001Z",
          "iopub.execute_input": "2023-03-17T11:38:02.534808Z",
          "iopub.status.idle": "2023-03-17T11:38:02.545112Z",
          "shell.execute_reply.started": "2023-03-17T11:38:02.534733Z",
          "shell.execute_reply": "2023-03-17T11:38:02.543488Z"
        },
        "trusted": true
      },
      "execution_count": null,
      "outputs": []
    },
    {
      "cell_type": "markdown",
      "source": [
        "Let us display the first 5 examples from the prepared dataset."
      ],
      "metadata": {
        "id": "Y7byxj5FmnjW"
      }
    },
    {
      "cell_type": "code",
      "source": [
        "dataset_df.head(5)"
      ],
      "metadata": {
        "id": "g0U1OKAYmnjW",
        "execution": {
          "iopub.status.busy": "2023-03-17T11:38:02.546894Z",
          "iopub.execute_input": "2023-03-17T11:38:02.54746Z",
          "iopub.status.idle": "2023-03-17T11:38:02.570683Z",
          "shell.execute_reply.started": "2023-03-17T11:38:02.547424Z",
          "shell.execute_reply": "2023-03-17T11:38:02.56949Z"
        },
        "trusted": true
      },
      "execution_count": null,
      "outputs": []
    },
    {
      "cell_type": "markdown",
      "source": [
        "Now let us split the dataset into training and testing datasets:"
      ],
      "metadata": {
        "id": "l6EmJsSfmnjW"
      }
    },
    {
      "cell_type": "code",
      "source": [
        "def split_dataset(dataset, test_ratio=0.20):\n",
        "  test_indices = np.random.rand(len(dataset)) < test_ratio\n",
        "  return dataset[~test_indices], dataset[test_indices]\n",
        "\n",
        "train_ds_pd, valid_ds_pd = split_dataset(dataset_df)\n",
        "print(\"{} examples in training, {} examples in testing.\".format(\n",
        "    len(train_ds_pd), len(valid_ds_pd)))"
      ],
      "metadata": {
        "id": "_drMgwAAmnjX",
        "execution": {
          "iopub.status.busy": "2023-03-17T11:38:02.572901Z",
          "iopub.execute_input": "2023-03-17T11:38:02.57342Z",
          "iopub.status.idle": "2023-03-17T11:38:02.589814Z",
          "shell.execute_reply.started": "2023-03-17T11:38:02.573367Z",
          "shell.execute_reply": "2023-03-17T11:38:02.588363Z"
        },
        "trusted": true
      },
      "execution_count": null,
      "outputs": []
    },
    {
      "cell_type": "markdown",
      "source": [
        "There's one more step required before we can train the model. We need to convert the datatset from Pandas format (`pd.DataFrame`) into TensorFlow Datasets format (`tf.data.Dataset`).\n",
        "\n",
        "[TensorFlow Datasets](https://www.tensorflow.org/datasets/overview) is a high performance data loading library which is helpful when training neural networks with accelerators like GPUs and TPUs."
      ],
      "metadata": {
        "id": "_gg4nfB1mnjX"
      }
    },
    {
      "cell_type": "code",
      "source": [
        "train_ds = tfdf.keras.pd_dataframe_to_tf_dataset(train_ds_pd, label=label)\n",
        "valid_ds = tfdf.keras.pd_dataframe_to_tf_dataset(valid_ds_pd, label=label)"
      ],
      "metadata": {
        "id": "LZADOplXmnjX",
        "execution": {
          "iopub.status.busy": "2023-03-17T11:38:02.591068Z",
          "iopub.execute_input": "2023-03-17T11:38:02.591679Z",
          "iopub.status.idle": "2023-03-17T11:38:02.784788Z",
          "shell.execute_reply.started": "2023-03-17T11:38:02.59164Z",
          "shell.execute_reply": "2023-03-17T11:38:02.781648Z"
        },
        "trusted": true
      },
      "execution_count": null,
      "outputs": []
    },
    {
      "cell_type": "markdown",
      "source": [
        "# Select a Model\n",
        "\n",
        "There are several tree-based models for you to choose from.\n",
        "\n",
        "* RandomForestModel\n",
        "* GradientBoostedTreesModel\n",
        "* CartModel\n",
        "* DistributedGradientBoostedTreesModel\n",
        "\n",
        "To start, we'll work with a Random Forest. This is the most well-known of the Decision Forest training algorithms.\n",
        "\n",
        "A Random Forest is a collection of decision trees, each trained independently on a random subset of the training dataset (sampled with replacement). The algorithm is unique in that it is robust to overfitting, and easy to use.\n",
        "\n",
        "We can list the all the available models in TensorFlow Decision Forests using the following code:"
      ],
      "metadata": {
        "id": "0-xUiOTwmnjY"
      }
    },
    {
      "cell_type": "code",
      "source": [
        "tfdf.keras.get_all_models()"
      ],
      "metadata": {
        "id": "PdQw1cWbmnjY",
        "execution": {
          "iopub.status.busy": "2023-03-17T11:38:02.786719Z",
          "iopub.execute_input": "2023-03-17T11:38:02.787233Z",
          "iopub.status.idle": "2023-03-17T11:38:02.801533Z",
          "shell.execute_reply.started": "2023-03-17T11:38:02.787177Z",
          "shell.execute_reply": "2023-03-17T11:38:02.79832Z"
        },
        "trusted": true
      },
      "execution_count": null,
      "outputs": []
    },
    {
      "cell_type": "markdown",
      "source": [
        "# Configure the model\n",
        "\n",
        "TensorFlow Decision Forests provides good defaults for you (e.g. the top ranking hyperparameters on our benchmarks, slightly modified to run in reasonable time). If you would like to configure the learning algorithm, you will find many options you can explore to get the highest possible accuracy.\n",
        "\n",
        "You can select a template and/or set parameters as follows:\n",
        "\n",
        "```rf = tfdf.keras.RandomForestModel(hyperparameter_template=\"benchmark_rank1\")```\n",
        "\n",
        "Read more [here](https://www.tensorflow.org/decision_forests/api_docs/python/tfdf/keras/RandomForestModel)."
      ],
      "metadata": {
        "id": "sy81fpfxmnjY"
      }
    },
    {
      "cell_type": "markdown",
      "source": [
        "# Create a Random Forest\n",
        "\n",
        "Today, we will use the defaults to create the Random Forest Model. By default the model is set to train for a classification task."
      ],
      "metadata": {
        "id": "AfJMCA6lmnjZ"
      }
    },
    {
      "cell_type": "markdown",
      "source": [],
      "metadata": {
        "id": "tq_VuvxaKQsO"
      }
    },
    {
      "cell_type": "code",
      "source": [
        "rf = tfdf.keras.RandomForestModel()\n",
        "rf.compile(metrics=[\"accuracy\"]) # Optional, you can use this to include a list of eval metrics"
      ],
      "metadata": {
        "id": "j7-gFVDNmnjZ",
        "execution": {
          "iopub.status.busy": "2023-03-17T11:38:02.803664Z",
          "iopub.execute_input": "2023-03-17T11:38:02.805636Z",
          "iopub.status.idle": "2023-03-17T11:38:02.880529Z",
          "shell.execute_reply.started": "2023-03-17T11:38:02.805571Z",
          "shell.execute_reply": "2023-03-17T11:38:02.879Z"
        },
        "trusted": true
      },
      "execution_count": null,
      "outputs": []
    },
    {
      "cell_type": "markdown",
      "source": [
        "# Train the model\n",
        "\n",
        "We will train the model using a one-liner.\n",
        "\n",
        "Note: you may see a warning about Autograph. You can safely ignore this, it will be fixed in the next release."
      ],
      "metadata": {
        "id": "wEQXtv4MmnjZ"
      }
    },
    {
      "cell_type": "code",
      "source": [
        "rf.fit(x=train_ds)"
      ],
      "metadata": {
        "id": "QcL5KRyLmnja",
        "execution": {
          "iopub.status.busy": "2023-03-17T11:38:02.88211Z",
          "iopub.execute_input": "2023-03-17T11:38:02.883042Z",
          "iopub.status.idle": "2023-03-17T11:39:06.645138Z",
          "shell.execute_reply.started": "2023-03-17T11:38:02.882994Z",
          "shell.execute_reply": "2023-03-17T11:39:06.644102Z"
        },
        "trusted": true
      },
      "execution_count": null,
      "outputs": []
    },
    {
      "cell_type": "markdown",
      "source": [
        "# Visualize the model\n",
        "One benefit of tree-based models is that we can easily visualize them. The default number of trees used in the Random Forests is 300. We can select a tree to display below."
      ],
      "metadata": {
        "id": "HQaPDLBjmnja"
      }
    },
    {
      "cell_type": "code",
      "source": [
        "tfdf.model_plotter.plot_model_in_colab(rf, tree_idx=0, max_depth=3)"
      ],
      "metadata": {
        "id": "hSao4Qstmnja",
        "execution": {
          "iopub.status.busy": "2023-03-17T11:39:06.646833Z",
          "iopub.execute_input": "2023-03-17T11:39:06.647203Z",
          "iopub.status.idle": "2023-03-17T11:39:07.196444Z",
          "shell.execute_reply.started": "2023-03-17T11:39:06.647167Z",
          "shell.execute_reply": "2023-03-17T11:39:07.195239Z"
        },
        "trusted": true
      },
      "execution_count": null,
      "outputs": []
    },
    {
      "cell_type": "markdown",
      "source": [
        "# Evaluate the model on the Out of bag (OOB) data and the validation dataset\n",
        "\n",
        "Before training the dataset we have manually seperated 20% of the dataset for validation named as `valid_ds`.\n",
        "\n",
        "We can also use Out of bag (OOB) score to validate our RandomForestModel.\n",
        "To train a Random Forest Model, a set of random samples from training set are choosen by the algorithm and the rest of the samples are used to finetune the model.The subset of data that is not chosen is known as Out of bag data (OOB).\n",
        "OOB score is computed on the OOB data.\n",
        "\n",
        "Read more about OOB data [here](https://developers.google.com/machine-learning/decision-forests/out-of-bag).\n",
        "\n",
        "The training logs show the accuracy evaluated on the out-of-bag dataset according to the number of trees in the model. Let us plot this.\n",
        "\n",
        "Note: Larger values are better for this hyperparameter."
      ],
      "metadata": {
        "id": "1q5zxzuLmnjb"
      }
    },
    {
      "cell_type": "code",
      "source": [
        "import matplotlib.pyplot as plt\n",
        "logs = rf.make_inspector().training_logs()\n",
        "plt.plot([log.num_trees for log in logs], [log.evaluation.accuracy for log in logs])\n",
        "plt.xlabel(\"Number of trees\")\n",
        "plt.ylabel(\"Accuracy (out-of-bag)\")\n",
        "plt.show()"
      ],
      "metadata": {
        "id": "z7u4IuAQmnjb",
        "execution": {
          "iopub.status.busy": "2023-03-17T11:39:07.197804Z",
          "iopub.execute_input": "2023-03-17T11:39:07.198663Z",
          "iopub.status.idle": "2023-03-17T11:39:07.422948Z",
          "shell.execute_reply.started": "2023-03-17T11:39:07.198625Z",
          "shell.execute_reply": "2023-03-17T11:39:07.421611Z"
        },
        "trusted": true
      },
      "execution_count": null,
      "outputs": []
    },
    {
      "cell_type": "markdown",
      "source": [
        "We can also see some general stats on the OOB dataset:"
      ],
      "metadata": {
        "id": "N24V7vhAmnjb"
      }
    },
    {
      "cell_type": "code",
      "source": [
        "inspector = rf.make_inspector()\n",
        "inspector.evaluation()"
      ],
      "metadata": {
        "id": "QTD92zMGmnjc",
        "execution": {
          "iopub.status.busy": "2023-03-17T11:39:07.424578Z",
          "iopub.execute_input": "2023-03-17T11:39:07.42514Z",
          "iopub.status.idle": "2023-03-17T11:39:07.434692Z",
          "shell.execute_reply.started": "2023-03-17T11:39:07.425104Z",
          "shell.execute_reply": "2023-03-17T11:39:07.433349Z"
        },
        "trusted": true
      },
      "execution_count": null,
      "outputs": []
    },
    {
      "cell_type": "markdown",
      "source": [
        "Now, let us run an evaluation using the validation dataset."
      ],
      "metadata": {
        "id": "SuVS0BGXmnjd"
      }
    },
    {
      "cell_type": "code",
      "source": [
        "evaluation = rf.evaluate(x=valid_ds,return_dict=True)\n",
        "\n",
        "for name, value in evaluation.items():\n",
        "  print(f\"{name}: {value:.4f}\")"
      ],
      "metadata": {
        "id": "C0SfSxc0mnjd",
        "execution": {
          "iopub.status.busy": "2023-03-17T11:39:07.43628Z",
          "iopub.execute_input": "2023-03-17T11:39:07.4367Z",
          "iopub.status.idle": "2023-03-17T11:39:08.066244Z",
          "shell.execute_reply.started": "2023-03-17T11:39:07.436667Z",
          "shell.execute_reply": "2023-03-17T11:39:08.065264Z"
        },
        "trusted": true
      },
      "execution_count": null,
      "outputs": []
    },
    {
      "cell_type": "markdown",
      "source": [
        "# Variable importances\n",
        "\n",
        "Variable importances generally indicate how much a feature contributes to the model predictions or quality. There are several ways to identify important features using TensorFlow Decision Forests.\n",
        "Let us list the available `Variable Importances` for Decision Trees:"
      ],
      "metadata": {
        "id": "cgAI1XrVmnje"
      }
    },
    {
      "cell_type": "code",
      "source": [
        "print(f\"Available variable importances:\")\n",
        "for importance in inspector.variable_importances().keys():\n",
        "  print(\"\\t\", importance)"
      ],
      "metadata": {
        "id": "BdPN_fV1mnje",
        "execution": {
          "iopub.status.busy": "2023-03-17T11:39:08.067559Z",
          "iopub.execute_input": "2023-03-17T11:39:08.068122Z",
          "iopub.status.idle": "2023-03-17T11:39:08.073989Z",
          "shell.execute_reply.started": "2023-03-17T11:39:08.068087Z",
          "shell.execute_reply": "2023-03-17T11:39:08.072841Z"
        },
        "trusted": true
      },
      "execution_count": null,
      "outputs": []
    },
    {
      "cell_type": "markdown",
      "source": [
        "As an example, let us display the important features for the Variable Importance `NUM_AS_ROOT`.\n",
        "\n",
        "The larger the importance score for `NUM_AS_ROOT`, the more impact it has on the outcome of the model.\n",
        "\n",
        "By default, the list is sorted from the most important to the least. From the output you can infer that the feature at the top of the list is used as the root node in most number of trees in the random forest than any other feature."
      ],
      "metadata": {
        "id": "dr-nVQwCmnje"
      }
    },
    {
      "cell_type": "code",
      "source": [
        "# Each line is: (feature name, (index of the feature), importance score)\n",
        "inspector.variable_importances()[\"NUM_AS_ROOT\"]"
      ],
      "metadata": {
        "id": "etYOifhfmnje",
        "execution": {
          "iopub.status.busy": "2023-03-17T11:39:08.075488Z",
          "iopub.execute_input": "2023-03-17T11:39:08.076101Z",
          "iopub.status.idle": "2023-03-17T11:39:08.09116Z",
          "shell.execute_reply.started": "2023-03-17T11:39:08.076064Z",
          "shell.execute_reply": "2023-03-17T11:39:08.089811Z"
        },
        "trusted": true
      },
      "execution_count": null,
      "outputs": []
    },
    {
      "cell_type": "markdown",
      "source": [
        "# Submission"
      ],
      "metadata": {
        "id": "DAtAR0vkmnje"
      }
    },
    {
      "cell_type": "code",
      "source": [
        "# Load the test dataset\n",
        "test_df = pd.read_csv('/kaggle/input/spaceship-titanic/test.csv')\n",
        "submission_id = test_df.PassengerId\n",
        "\n",
        "# Replace NaN values with zero\n",
        "test_df[['VIP', 'CryoSleep']] = test_df[['VIP', 'CryoSleep']].fillna(value=0)\n",
        "\n",
        "# Creating New Features - Deck, Cabin_num and Side from the column Cabin and remove Cabin\n",
        "test_df[[\"Deck\", \"Cabin_num\", \"Side\"]] = test_df[\"Cabin\"].str.split(\"/\", expand=True)\n",
        "test_df = test_df.drop('Cabin', axis=1)\n",
        "\n",
        "# Convert boolean to 1's and 0's\n",
        "test_df['VIP'] = test_df['VIP'].astype(int)\n",
        "test_df['CryoSleep'] = test_df['CryoSleep'].astype(int)\n",
        "\n",
        "# Convert pd dataframe to tf dataset\n",
        "test_ds = tfdf.keras.pd_dataframe_to_tf_dataset(test_df)\n",
        "\n",
        "# Get the predictions for testdata\n",
        "predictions = rf.predict(test_ds)\n",
        "n_predictions = (predictions > 0.5).astype(bool)\n",
        "output = pd.DataFrame({'PassengerId': submission_id,\n",
        "                       'Transported': n_predictions.squeeze()})\n",
        "\n",
        "output.head()"
      ],
      "metadata": {
        "id": "KHBRzBD9mnjf",
        "execution": {
          "iopub.status.busy": "2023-03-17T11:39:08.096864Z",
          "iopub.execute_input": "2023-03-17T11:39:08.097594Z",
          "iopub.status.idle": "2023-03-17T11:39:08.764205Z",
          "shell.execute_reply.started": "2023-03-17T11:39:08.097552Z",
          "shell.execute_reply": "2023-03-17T11:39:08.762812Z"
        },
        "trusted": true
      },
      "execution_count": null,
      "outputs": []
    },
    {
      "cell_type": "code",
      "source": [
        "sample_submission_df = pd.read_csv('/kaggle/input/spaceship-titanic/sample_submission.csv')\n",
        "sample_submission_df['Transported'] = n_predictions\n",
        "sample_submission_df.to_csv('/kaggle/working/submission.csv', index=False)\n",
        "sample_submission_df.head()"
      ],
      "metadata": {
        "id": "OZuB6CdUmnjf",
        "execution": {
          "iopub.status.busy": "2023-03-17T11:39:08.766214Z",
          "iopub.execute_input": "2023-03-17T11:39:08.767001Z",
          "iopub.status.idle": "2023-03-17T11:39:08.809562Z",
          "shell.execute_reply.started": "2023-03-17T11:39:08.766942Z",
          "shell.execute_reply": "2023-03-17T11:39:08.807867Z"
        },
        "trusted": true
      },
      "execution_count": null,
      "outputs": []
    }
  ]
}